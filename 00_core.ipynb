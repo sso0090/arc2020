{
 "cells": [
  {
   "cell_type": "code",
   "execution_count": 1,
   "metadata": {},
   "outputs": [],
   "source": [
    "#default_exp rs.core"
   ]
  },
  {
   "cell_type": "markdown",
   "metadata": {},
   "source": [
    "# abc2020\n",
    "\n",
    "> Abstraction and Reasoning Challenge:\n",
    "Create an AI capable of solving reasoning tasks it has never seen before"
   ]
  },
  {
   "cell_type": "code",
   "execution_count": 1,
   "metadata": {},
   "outputs": [],
   "source": [
    "#hide\n",
    "from nbdev.showdoc import *"
   ]
  },
  {
   "cell_type": "code",
   "execution_count": 9,
   "metadata": {},
   "outputs": [],
   "source": [
    "#export\n",
    "class MObject:\n",
    "    \"\"\"A base class\"\"\"\n",
    "    def hello():\n",
    "        print(\"Hello!\")"
   ]
  },
  {
   "cell_type": "markdown",
   "metadata": {},
   "source": [
    "**Some Stupid text!**"
   ]
  },
  {
   "cell_type": "code",
   "execution_count": 16,
   "metadata": {},
   "outputs": [],
   "source": [
    "#export\n",
    "#@docs\n",
    "class MObjectContinuous(MObject):\n",
    "    \"\"\"A Continuous Object\"\"\"\n",
    "    def __init__(self):\n",
    "        self.data = []\n",
    "    def helloCont(self):\n",
    "        print(\"HelloCont!\")\n",
    "\n",
    "class MObjectDiscrete(MObject):\n",
    "    \"\"\"A Discrete Object\"\"\"\n",
    "    def __init__(self):\n",
    "        self.data = []\n",
    "    def helloCont(self):\n",
    "        print(\"HelloDisc!\")\n",
    "\n",
    "class MObjectConnected(MObject):\n",
    "    \"\"\"A Continuous Object\"\"\"\n",
    "    def __init__(self):\n",
    "        self.data = []\n",
    "    def helloCont(self):\n",
    "        print(\"HelloCont!\")        "
   ]
  },
  {
   "cell_type": "code",
   "execution_count": null,
   "metadata": {},
   "outputs": [],
   "source": [
    "class MObjectPointLike(MObjectDiscrete):\n",
    "    \"\"\"A Point Like Object\"\"\"\n",
    "    def __init__(self):\n",
    "        self.data = []\n",
    "    def get_point(self):\n",
    "        print(\"HelloCont!\")\n",
    "        \n",
    "class MObjectLineLike(MObjectDiscrete):\n",
    "    \"\"\"A Point Like Object\"\"\"\n",
    "    def __init__(self):\n",
    "        self.data = []\n",
    "    def get_start(self):\n",
    "        print(\"HelloCont!\")\n",
    "    def get_end(self):\n",
    "        print(\"HelloCont!\")\n",
    "    def length(self):\n",
    "        print(\"HelloCont!\")\n",
    "        \n",
    "class MObjectFaceLike(MObjectDiscrete):\n",
    "    \"\"\"A Point Like Object\"\"\"\n",
    "    def __init__(self):\n",
    "        self.data = []\n",
    "    def helloCont(self):\n",
    "        print(\"HelloCont!\")"
   ]
  },
  {
   "cell_type": "code",
   "execution_count": null,
   "metadata": {},
   "outputs": [],
   "source": []
  },
  {
   "cell_type": "code",
   "execution_count": 19,
   "metadata": {},
   "outputs": [
    {
     "name": "stdout",
     "output_type": "stream",
     "text": [
      "HelloCont!\n"
     ]
    }
   ],
   "source": [
    "c=MObjectContinuous()\n",
    "c.helloCont()"
   ]
  },
  {
   "cell_type": "code",
   "execution_count": 20,
   "metadata": {},
   "outputs": [
    {
     "name": "stdout",
     "output_type": "stream",
     "text": [
      "Converted 00_core.ipynb.\n",
      "Converted index.ipynb.\n"
     ]
    }
   ],
   "source": [
    "#hide\n",
    "from nbdev.export import *\n",
    "notebook2script()"
   ]
  },
  {
   "cell_type": "code",
   "execution_count": null,
   "metadata": {},
   "outputs": [],
   "source": []
  }
 ],
 "metadata": {
  "kernelspec": {
   "display_name": "Python 3",
   "language": "python",
   "name": "python3"
  },
  "language_info": {
   "codemirror_mode": {
    "name": "ipython",
    "version": 3
   },
   "file_extension": ".py",
   "mimetype": "text/x-python",
   "name": "python",
   "nbconvert_exporter": "python",
   "pygments_lexer": "ipython3",
   "version": "3.7.6"
  },
  "nteract": {
   "version": "0.21.0"
  },
  "toc": {
   "base_numbering": 1,
   "nav_menu": {},
   "number_sections": true,
   "sideBar": true,
   "skip_h1_title": false,
   "title_cell": "Table of Contents",
   "title_sidebar": "Contents",
   "toc_cell": false,
   "toc_position": {},
   "toc_section_display": true,
   "toc_window_display": false
  }
 },
 "nbformat": 4,
 "nbformat_minor": 2
}
