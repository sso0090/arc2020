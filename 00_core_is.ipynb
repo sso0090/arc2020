{
 "cells": [
  {
   "cell_type": "code",
   "execution_count": null,
   "metadata": {},
   "outputs": [],
   "source": [
    "#default_exp is.core"
   ]
  },
  {
   "cell_type": "code",
   "execution_count": null,
   "metadata": {},
   "outputs": [],
   "source": [
    "#hide\n",
    "from nbdev.showdoc import *"
   ]
  },
  {
   "cell_type": "code",
   "execution_count": null,
   "metadata": {},
   "outputs": [],
   "source": [
    "#export\n",
    "\n",
    "class MModel():\n",
    "    \"\"\"A base property\"\"\"\n",
    "    def __init__(self):\n",
    "        self.data = []\n",
    "\n",
    "class MAObject():\n",
    "    \"\"\"A base Abstract Object\"\"\"\n",
    "    def __init__(self):\n",
    "        self.data = []\n",
    "    \"\"\"A base property\"\"\"\n",
    "    def hello():\n",
    "        print(\"Hello!\")\n",
    "\n",
    "class MObject(MAObject):\n",
    "    \"\"\"A base Object\"\"\"\n",
    "    def __init__(self):\n",
    "        self.data = []\n",
    "    def hello():\n",
    "        print(\"Hello!\")\n",
    "\n",
    "class MProperty(MAObject):\n",
    "    \"\"\"A base Property\"\"\"\n",
    "    def __init__(self):\n",
    "        self.data = []\n",
    "    def hello():\n",
    "        print(\"Hello!\")\n",
    "\n",
    "class MMethod(MAObject):\n",
    "    \"\"\"A base Method\"\"\"\n",
    "    def __init__(self):\n",
    "        self.data = []\n",
    "    def hello():\n",
    "        print(\"Hello!\")\n",
    "        \n",
    "class MRelation(MAObject):\n",
    "    \"\"\"A base Relation\"\"\"\n",
    "    def __init__(self):\n",
    "        self.data = []\n",
    "    def hello():\n",
    "        print(\"Hello!\")"
   ]
  },
  {
   "cell_type": "code",
   "execution_count": null,
   "metadata": {},
   "outputs": [],
   "source": []
  },
  {
   "cell_type": "code",
   "execution_count": 1,
   "metadata": {},
   "outputs": [
    {
     "name": "stdout",
     "output_type": "stream",
     "text": [
      "Converted 00_core.ipynb.\n",
      "Converted 00_core_is.ipynb.\n",
      "Converted index.ipynb.\n",
      "Converted Untitled.ipynb.\n"
     ]
    }
   ],
   "source": [
    "from nbdev.export import *\n",
    "notebook2script()"
   ]
  },
  {
   "cell_type": "code",
   "execution_count": null,
   "metadata": {},
   "outputs": [],
   "source": []
  }
 ],
 "metadata": {
  "kernelspec": {
   "display_name": "Python 3",
   "language": "python",
   "name": "python3"
  },
  "language_info": {
   "codemirror_mode": {
    "name": "ipython",
    "version": 3
   },
   "file_extension": ".py",
   "mimetype": "text/x-python",
   "name": "python",
   "nbconvert_exporter": "python",
   "pygments_lexer": "ipython3",
   "version": "3.7.6"
  },
  "toc": {
   "base_numbering": 1,
   "nav_menu": {},
   "number_sections": true,
   "sideBar": true,
   "skip_h1_title": false,
   "title_cell": "Table of Contents",
   "title_sidebar": "Contents",
   "toc_cell": false,
   "toc_position": {},
   "toc_section_display": true,
   "toc_window_display": false
  }
 },
 "nbformat": 4,
 "nbformat_minor": 4
}
