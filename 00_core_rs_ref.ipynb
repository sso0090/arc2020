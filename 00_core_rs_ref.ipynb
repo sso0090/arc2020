{
 "cells": [
  {
   "cell_type": "code",
   "execution_count": null,
   "metadata": {},
   "outputs": [],
   "source": []
  },
  {
   "cell_type": "code",
   "execution_count": null,
   "metadata": {},
   "outputs": [],
   "source": [
    "#default_exp rs.ref"
   ]
  },
  {
   "cell_type": "code",
   "execution_count": null,
   "metadata": {},
   "outputs": [],
   "source": [
    "#hide\n",
    "from nbdev.showdoc import *"
   ]
  },
  {
   "cell_type": "code",
   "execution_count": null,
   "metadata": {},
   "outputs": [],
   "source": [
    "#export\n",
    "class MThings(MAObject):\n",
    "    \"\"\"A base property\"\"\"\n",
    "    def __init__(self):\n",
    "        self.data = []\n",
    "\n",
    "class MAObject():\n",
    "    \"\"\"A base Abstract Object\"\"\"\n",
    "    def __init__(self):\n",
    "        self.data = []\n",
    "    \"\"\"A base property\"\"\"\n",
    "    def hello():\n",
    "        print(\"Hello!\")\n",
    "\n",
    "class MAThing(MAObject):\n",
    "    \"\"\"A base Abstract Object\"\"\"\n",
    "    def __init__(self):\n",
    "        self.data = []\n",
    "    \"\"\"A base property\"\"\"\n",
    "    def hello():\n",
    "        print(\"Hello!\")"
   ]
  },
  {
   "cell_type": "markdown",
   "metadata": {},
   "source": [
    "**Meta**"
   ]
  },
  {
   "cell_type": "code",
   "execution_count": null,
   "metadata": {},
   "outputs": [],
   "source": [
    "class MADimension(MAObject):\n",
    "    \"\"\"A base Abstract Object\"\"\"\n",
    "    def __init__(self):\n",
    "        self.data = []\n",
    "    \"\"\"A base property\"\"\"\n",
    "    def hello():\n",
    "        print(\"Hello!\")ADimension\n",
    "\n",
    "class MADimensionDefinition(MADimension):\n",
    "    \"\"\"A base Abstract Object\"\"\"\n",
    "    def __init__(self):\n",
    "        self.data = []\n",
    "    \"\"\"A base property\"\"\"\n",
    "    def hello():\n",
    "        print(\"Hello!\")\n",
    "class MADimensionExplanation(MADimension):\n",
    "    \"\"\"A base Abstract Object\"\"\"\n",
    "    def __init__(self):\n",
    "        self.data = []\n",
    "    \"\"\"A base property\"\"\"\n",
    "    def hello():\n",
    "        print(\"Hello!\")\n",
    "\n",
    "class MSpecialisation(MADimensionDefinition):\n",
    "    \"\"\"A base Abstract Object\"\"\"\n",
    "    def __init__(self):\n",
    "        self.data = []\n",
    "    \"\"\"A base property\"\"\"\n",
    "    def hello():\n",
    "        print(\"Hello!\")\n",
    "\n",
    "class MGeneralisation(MADimensionDefinition):\n",
    "    \"\"\"A base Abstract Object\"\"\"\n",
    "    def __init__(self):\n",
    "        self.data = []\n",
    "    \"\"\"A base property\"\"\"\n",
    "    def hello():\n",
    "        print(\"Hello!\")\n",
    "\n",
    "class MAggregation(MADimensionDefinition):\n",
    "    \"\"\"A base Abstract Object\"\"\"\n",
    "    def __init__(self):\n",
    "        self.data = []\n",
    "    \"\"\"A base property\"\"\"\n",
    "    def hello():\n",
    "        print(\"Hello!\")\n",
    "\n",
    "class MCharacterisation(MADimensionDefinition):\n",
    "    \"\"\"A base Abstract Object\"\"\"\n",
    "    def __init__(self):\n",
    "        self.data = []\n",
    "    \"\"\"A base property\"\"\"\n",
    "    def hello():\n",
    "        print(\"Hello!\")\n",
    "\n",
    "class MHabital(MADimensionDefinition):\n",
    "    \"\"\"A base Abstract Object\"\"\"\n",
    "    def __init__(self):\n",
    "        self.data = []\n",
    "    \"\"\"A base property\"\"\"\n",
    "    def hello():\n",
    "        print(\"Hello!\")\n",
    "\n",
    "class MBehavioral(MADimensionDefinition):\n",
    "    \"\"\"A base Abstract Object\"\"\"\n",
    "    def __init__(self):\n",
    "        self.data = []\n",
    "    \"\"\"A base property\"\"\"\n",
    "    def hello():\n",
    "        print(\"Hello!\")"
   ]
  },
  {
   "cell_type": "code",
   "execution_count": 1,
   "metadata": {},
   "outputs": [
    {
     "name": "stdout",
     "output_type": "stream",
     "text": [
      "Converted 00_core.ipynb.\n",
      "Converted 00_core_is.ipynb.\n",
      "Converted 00_core_rs_ref.ipynb.\n",
      "Converted index.ipynb.\n",
      "Converted Untitled.ipynb.\n"
     ]
    }
   ],
   "source": [
    "from nbdev.export import *\n",
    "notebook2script()"
   ]
  }
 ],
 "metadata": {
  "kernelspec": {
   "display_name": "Python 3",
   "language": "python",
   "name": "python3"
  },
  "language_info": {
   "codemirror_mode": {
    "name": "ipython",
    "version": 3
   },
   "file_extension": ".py",
   "mimetype": "text/x-python",
   "name": "python",
   "nbconvert_exporter": "python",
   "pygments_lexer": "ipython3",
   "version": "3.7.6"
  },
  "toc": {
   "base_numbering": 1,
   "nav_menu": {},
   "number_sections": true,
   "sideBar": true,
   "skip_h1_title": false,
   "title_cell": "Table of Contents",
   "title_sidebar": "Contents",
   "toc_cell": false,
   "toc_position": {},
   "toc_section_display": true,
   "toc_window_display": false
  }
 },
 "nbformat": 4,
 "nbformat_minor": 4
}
